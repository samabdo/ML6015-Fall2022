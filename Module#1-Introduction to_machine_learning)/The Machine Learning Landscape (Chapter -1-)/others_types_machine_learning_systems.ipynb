{
 "cells": [
  {
   "cell_type": "markdown",
   "id": "96b6d933",
   "metadata": {
    "toc": true
   },
   "source": [
    "<h1>Table of Contents<span class=\"tocSkip\"></span></h1>\n",
    "<div class=\"toc\"><ul class=\"toc-item\"><li><span><a href=\"#Learning-on-the-fly\" data-toc-modified-id=\"Learning-on-the-fly-1\"><span class=\"toc-item-num\">1&nbsp;&nbsp;</span>Learning on the fly</a></span><ul class=\"toc-item\"><li><span><a href=\"#Batch-Learning\" data-toc-modified-id=\"Batch-Learning-1.1\"><span class=\"toc-item-num\">1.1&nbsp;&nbsp;</span>Batch Learning</a></span><ul class=\"toc-item\"><li><span><a href=\"#Advantages:\" data-toc-modified-id=\"Advantages:-1.1.1\"><span class=\"toc-item-num\">1.1.1&nbsp;&nbsp;</span>Advantages:</a></span></li><li><span><a href=\"#Disadvantages:\" data-toc-modified-id=\"Disadvantages:-1.1.2\"><span class=\"toc-item-num\">1.1.2&nbsp;&nbsp;</span>Disadvantages:</a></span></li></ul></li><li><span><a href=\"#Online-(Incremental)-Learning\" data-toc-modified-id=\"Online-(Incremental)-Learning-1.2\"><span class=\"toc-item-num\">1.2&nbsp;&nbsp;</span>Online (Incremental) Learning</a></span><ul class=\"toc-item\"><li><span><a href=\"#Advantages:\" data-toc-modified-id=\"Advantages:-1.2.1\"><span class=\"toc-item-num\">1.2.1&nbsp;&nbsp;</span>Advantages:</a></span></li><li><span><a href=\"#Disadvantages:\" data-toc-modified-id=\"Disadvantages:-1.2.2\"><span class=\"toc-item-num\">1.2.2&nbsp;&nbsp;</span>Disadvantages:</a></span></li></ul></li></ul></li><li><span><a href=\"#With-or-without-model\" data-toc-modified-id=\"With-or-without-model-2\"><span class=\"toc-item-num\">2&nbsp;&nbsp;</span>With or without model</a></span><ul class=\"toc-item\"><li><span><a href=\"#Instance-based-Learning\" data-toc-modified-id=\"Instance-based-Learning-2.1\"><span class=\"toc-item-num\">2.1&nbsp;&nbsp;</span>Instance-based Learning</a></span></li><li><span><a href=\"#Model-based-Learning\" data-toc-modified-id=\"Model-based-Learning-2.2\"><span class=\"toc-item-num\">2.2&nbsp;&nbsp;</span>Model-based Learning</a></span></li></ul></li></ul></div>"
   ]
  },
  {
   "cell_type": "markdown",
   "id": "0dc0dc96",
   "metadata": {},
   "source": [
    "# Learning on the fly\n",
    "\n",
    "Whether or not they can learn incrementally on the fly (on-line versus batch learning)\n",
    "\n",
    "## Batch Learning\n",
    "\n",
    "The holistic data is provided to the learning algorithm at once.\n",
    "\n",
    "### Advantages:\n",
    "1. Many algorithms need a lot of data to learn accurately.\n",
    "2. Solutions over the whole data are usually simple.\n",
    "\n",
    "### Disadvantages:\n",
    "1. Learning or training is effected by the whole data rare, incomplete, noises, or outlier examples.\n",
    "2. These problems are usually happened in medical data sets.\n",
    "3. Learning or training is time-consuming.\n",
    "4. Learning or training requires a lot of computing resources such memory/disk spaces or CPU cycles.\n",
    "\n",
    "\n",
    "## Online (Incremental) Learning\n",
    "\n",
    "Mini-batch(s)/example(s) is provided to the learning algorithm at a time (incrementally).\n",
    "\n",
    "### Advantages:\n",
    "1. Updating learning process becomes easier.\n",
    "2. Learn from the errors if any or do nothing.\n",
    "3. Tackling the disadvantages of batch learning.\n",
    "\n",
    "### Disadvantages:\n",
    "1. Many algorithms need a lot of data to learn accurately.\n",
    "\n",
    "<b> See the following book Figure 1.13 </b>\n",
    "\n",
    "<img style=\"float: center\" src=\"./images/online.png\" alt=\"drawing\" Hight=\"600\" width=\"600\"/>\n",
    "\n",
    "<b> See the following book Figure 1.14 </b>\n",
    "\n",
    "<img style=\"float: center\" src=\"./images/online-batch.png\" alt=\"drawing\" Hight=\"300\" width=\"500\"/>"
   ]
  },
  {
   "cell_type": "markdown",
   "id": "7f0d5e45",
   "metadata": {},
   "source": [
    "# With or without model\n",
    "\n",
    "Whether they work by simply comparing new data points to known data points, or instead by detecting patterns in the training data and building a predictive model, much like scientists do (instance-based versus model-based learning)\n",
    "\n",
    "## Instance-based Learning\n",
    "\n",
    "Finding the nearest training example(s) to the test  example(s) in the runtime.\n",
    "\n",
    "<b> See the following book Figure 1.15 </b>\n",
    "\n",
    "<img style=\"float: center\" src=\"./images/instance-based.png\" alt=\"drawing\" Hight=\"600\" width=\"600\"/>\n",
    "\n",
    "## Model-based Learning\n",
    "\n",
    "Developing the function to define boundaries offline from the training data and to use the function and the boundaries in the test example(s).\n",
    "\n",
    "<b> See the following book Figure 1.16 </b>\n",
    "\n",
    "<img style=\"float: center\" src=\"./images/model-based.png\" alt=\"drawing\" Hight=\"600\" width=\"600\"/>\n",
    "\n"
   ]
  },
  {
   "cell_type": "markdown",
   "id": "9414c8fd",
   "metadata": {},
   "source": [
    "<b> "
   ]
  }
 ],
 "metadata": {
  "kernelspec": {
   "display_name": "Python 3 (ipykernel)",
   "language": "python",
   "name": "python3"
  },
  "language_info": {
   "codemirror_mode": {
    "name": "ipython",
    "version": 3
   },
   "file_extension": ".py",
   "mimetype": "text/x-python",
   "name": "python",
   "nbconvert_exporter": "python",
   "pygments_lexer": "ipython3",
   "version": "3.9.6"
  },
  "toc": {
   "base_numbering": 1,
   "nav_menu": {},
   "number_sections": true,
   "sideBar": true,
   "skip_h1_title": false,
   "title_cell": "Table of Contents",
   "title_sidebar": "Table of Contents",
   "toc_cell": true,
   "toc_position": {},
   "toc_section_display": true,
   "toc_window_display": true
  }
 },
 "nbformat": 4,
 "nbformat_minor": 5
}
