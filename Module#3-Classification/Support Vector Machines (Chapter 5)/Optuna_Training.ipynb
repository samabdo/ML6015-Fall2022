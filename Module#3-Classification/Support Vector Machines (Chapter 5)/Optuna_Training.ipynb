{
 "cells": [
  {
   "cell_type": "markdown",
   "id": "45e2e80c-e066-4e1d-96f6-f20c5ddd12d5",
   "metadata": {},
   "source": [
    "# Optuna Training"
   ]
  },
  {
   "cell_type": "markdown",
   "id": "ac5ebe01-dfc3-4f6a-a917-6fabd84a403d",
   "metadata": {},
   "source": [
    "Optuna is a powerful tool for performing hyperparameter optimization. It is fast and surprisingly simple to use with options for much more advanced customization. This tutorial will focus on the basic syntax for using Optuna."
   ]
  },
  {
   "cell_type": "code",
   "execution_count": 1,
   "id": "b72a9518-1069-46b5-97c2-cef5df0b5d33",
   "metadata": {},
   "outputs": [],
   "source": [
    "import optuna\n",
    "\n",
    "import numpy as np\n",
    "\n",
    "from sklearn import datasets\n",
    "from sklearn import svm\n",
    "from sklearn import linear_model\n",
    "from sklearn import model_selection"
   ]
  },
  {
   "cell_type": "markdown",
   "id": "fd4a2845-b88e-4c7a-9386-0befcdc32437",
   "metadata": {},
   "source": [
    "All of the code we would normally use for model training goes in a function called `objective` that takes an Optuna-specific argument called `trial`. The `objective` function must have the following within it:  \n",
    "\n",
    "1. Definition of `X` and `y`\n",
    "2. Selection of model hyperparameters using a `suggest_int`, `suggest_float`, `suggest_categorical`, or some other `suggest_` function.\n",
    "3. Definition of the model using the selected hyperparameters\n",
    "4. Generation of a model score  \n",
    "\n",
    "See the following code for examples of the syntax Optuna uses."
   ]
  },
  {
   "cell_type": "code",
   "execution_count": 6,
   "id": "582624ab-fa70-46f0-8195-eb93b8aa08a9",
   "metadata": {},
   "outputs": [],
   "source": [
    "def objective(trial):\n",
    "    \"\"\"This is the set of instructions for Optuna to follow. \n",
    "    Everything that you would normally do to train an algorithm goes in this function.\"\"\"\n",
    "    # Define the dataset, X and y\n",
    "    diabetes = datasets.load_diabetes()\n",
    "    X, y = diabetes.data, diabetes.target\n",
    "    # Pick a model type\n",
    "    model_name = trial.suggest_categorical(\"model_type\", [\"SVM\", \"Linear\"])\n",
    "    \n",
    "    # Get the hyperparameters based on the model type\n",
    "    \n",
    "    # SVM\n",
    "    if model_name == \"SVM\":\n",
    "        # Get the hyperparameters from a given range\n",
    "        kern = trial.suggest_categorical(\"SVM_kernel\", [\"linear\", \"poly\", \"rbf\", \"sigmoid\"])\n",
    "        C = trial.suggest_float(\"SVM_C\", 0.01, 100, log=True)\n",
    "        if kern == \"poly\":\n",
    "            deg = trial.suggest_int(\"SVM_degree\", 2, 10, log=False)\n",
    "        else:\n",
    "            deg = 3\n",
    "        # Define the model with the chosen parameters\n",
    "        model = svm.SVR(kernel=kern, C=C, degree=deg)\n",
    "    \n",
    "    # Linear\n",
    "    elif model_name == \"Linear\":\n",
    "        # Get the hyperparameters from a given range\n",
    "        a = trial.suggest_float(\"Linear_alpha\", 0.001, 100, log=True)\n",
    "        ratio = trial.suggest_float(\"Linear_l1_ratio\", 0, 1, log=False)\n",
    "        # Define the model with the chosen parameters\n",
    "        model = linear_model.ElasticNet(alpha=a, l1_ratio=ratio)\n",
    "    \n",
    "    # Get the negative mean squared error score with cross validation\n",
    "    scores = model_selection.cross_val_score(model, X, y, cv=5, scoring=\"neg_mean_squared_error\")\n",
    "    score = np.mean(scores)\n",
    "    # Return the score\n",
    "    return score"
   ]
  },
  {
   "cell_type": "markdown",
   "id": "cee74095-7c76-496a-a4c7-11196887003a",
   "metadata": {},
   "source": [
    "After defining the function called `objective`, only two lines are required to use Optuna for hyperparameter optimization. We need to _create a study_ by calling `study = optuna.create_study()`, then we need to optimize the study to get the best hyperparameters by calling `study.optimize(objective)`. We can use or print the best hyperparameters after this."
   ]
  },
  {
   "cell_type": "code",
   "execution_count": 7,
   "id": "ab81774b-3ec1-402c-abca-7bbb313f7eae",
   "metadata": {},
   "outputs": [
    {
     "name": "stderr",
     "output_type": "stream",
     "text": [
      "\u001b[32m[I 2022-10-17 16:45:20,356]\u001b[0m A new study created in memory with name: no-name-e97514c8-121a-4e31-8b0c-04ffedece628\u001b[0m\n",
      "\u001b[32m[I 2022-10-17 16:45:20,385]\u001b[0m Trial 0 finished with value: -5894.214139555121 and parameters: {'model_type': 'Linear', 'Linear_alpha': 0.5425638953395514, 'Linear_l1_ratio': 0.28241794327152825}. Best is trial 0 with value: -5894.214139555121.\u001b[0m\n",
      "\u001b[32m[I 2022-10-17 16:45:20,409]\u001b[0m Trial 1 finished with value: -5882.565756963317 and parameters: {'model_type': 'Linear', 'Linear_alpha': 0.39271213498494795, 'Linear_l1_ratio': 0.04035017235170135}. Best is trial 1 with value: -5882.565756963317.\u001b[0m\n",
      "\u001b[32m[I 2022-10-17 16:45:20,433]\u001b[0m Trial 2 finished with value: -5982.413413836098 and parameters: {'model_type': 'Linear', 'Linear_alpha': 50.49564710722571, 'Linear_l1_ratio': 0.6148953089674932}. Best is trial 1 with value: -5882.565756963317.\u001b[0m\n",
      "\u001b[32m[I 2022-10-17 16:45:20,455]\u001b[0m Trial 3 finished with value: -5975.733372439451 and parameters: {'model_type': 'Linear', 'Linear_alpha': 3.3806792968884434, 'Linear_l1_ratio': 0.28543720593813393}. Best is trial 1 with value: -5882.565756963317.\u001b[0m\n",
      "\u001b[32m[I 2022-10-17 16:45:20,516]\u001b[0m Trial 4 finished with value: -6104.774825491548 and parameters: {'model_type': 'SVM', 'SVM_kernel': 'poly', 'SVM_C': 0.01885472077105832, 'SVM_degree': 8}. Best is trial 1 with value: -5882.565756963317.\u001b[0m\n",
      "\u001b[32m[I 2022-10-17 16:45:20,540]\u001b[0m Trial 5 finished with value: -3040.2460479346482 and parameters: {'model_type': 'Linear', 'Linear_alpha': 0.0014157599474398203, 'Linear_l1_ratio': 0.5700412996654133}. Best is trial 5 with value: -3040.2460479346482.\u001b[0m\n",
      "\u001b[32m[I 2022-10-17 16:45:20,563]\u001b[0m Trial 6 finished with value: -5982.413413836098 and parameters: {'model_type': 'Linear', 'Linear_alpha': 49.41156770783258, 'Linear_l1_ratio': 0.3719636819678691}. Best is trial 5 with value: -3040.2460479346482.\u001b[0m\n",
      "\u001b[32m[I 2022-10-17 16:45:20,586]\u001b[0m Trial 7 finished with value: -5982.413413836098 and parameters: {'model_type': 'Linear', 'Linear_alpha': 46.344426844889355, 'Linear_l1_ratio': 0.7850937447805962}. Best is trial 5 with value: -3040.2460479346482.\u001b[0m\n",
      "\u001b[32m[I 2022-10-17 16:45:20,609]\u001b[0m Trial 8 finished with value: -5982.413413836098 and parameters: {'model_type': 'Linear', 'Linear_alpha': 14.937897508071456, 'Linear_l1_ratio': 0.28417176890284146}. Best is trial 5 with value: -3040.2460479346482.\u001b[0m\n",
      "\u001b[32m[I 2022-10-17 16:45:20,632]\u001b[0m Trial 9 finished with value: -5982.413413836098 and parameters: {'model_type': 'Linear', 'Linear_alpha': 36.57610051285416, 'Linear_l1_ratio': 0.7470940861953306}. Best is trial 5 with value: -3040.2460479346482.\u001b[0m\n",
      "\u001b[32m[I 2022-10-17 16:45:20,717]\u001b[0m Trial 10 finished with value: -3179.9450265573987 and parameters: {'model_type': 'SVM', 'SVM_kernel': 'rbf', 'SVM_C': 50.398769094391206}. Best is trial 5 with value: -3040.2460479346482.\u001b[0m\n",
      "\u001b[32m[I 2022-10-17 16:45:20,814]\u001b[0m Trial 11 finished with value: -3279.0692825774677 and parameters: {'model_type': 'SVM', 'SVM_kernel': 'rbf', 'SVM_C': 99.5099017355597}. Best is trial 5 with value: -3040.2460479346482.\u001b[0m\n",
      "\u001b[32m[I 2022-10-17 16:45:20,907]\u001b[0m Trial 12 finished with value: -3255.7123209826796 and parameters: {'model_type': 'SVM', 'SVM_kernel': 'rbf', 'SVM_C': 82.5109133703166}. Best is trial 5 with value: -3040.2460479346482.\u001b[0m\n",
      "\u001b[32m[I 2022-10-17 16:45:21,004]\u001b[0m Trial 13 finished with value: -3337.4707697101876 and parameters: {'model_type': 'SVM', 'SVM_kernel': 'sigmoid', 'SVM_C': 1.7777631989179716}. Best is trial 5 with value: -3040.2460479346482.\u001b[0m\n",
      "\u001b[32m[I 2022-10-17 16:45:21,062]\u001b[0m Trial 14 finished with value: -5809.89339326112 and parameters: {'model_type': 'SVM', 'SVM_kernel': 'linear', 'SVM_C': 2.0672866144327795}. Best is trial 5 with value: -3040.2460479346482.\u001b[0m\n",
      "\u001b[32m[I 2022-10-17 16:45:21,138]\u001b[0m Trial 15 finished with value: -3042.29022007245 and parameters: {'model_type': 'SVM', 'SVM_kernel': 'rbf', 'SVM_C': 9.848139255373743}. Best is trial 5 with value: -3040.2460479346482.\u001b[0m\n",
      "\u001b[32m[I 2022-10-17 16:45:21,200]\u001b[0m Trial 16 finished with value: -6088.03853831093 and parameters: {'model_type': 'SVM', 'SVM_kernel': 'linear', 'SVM_C': 0.10827493843435089}. Best is trial 5 with value: -3040.2460479346482.\u001b[0m\n",
      "\u001b[32m[I 2022-10-17 16:45:21,269]\u001b[0m Trial 17 finished with value: -5516.501135248989 and parameters: {'model_type': 'SVM', 'SVM_kernel': 'poly', 'SVM_C': 6.8191890660734815, 'SVM_degree': 2}. Best is trial 5 with value: -3040.2460479346482.\u001b[0m\n",
      "\u001b[32m[I 2022-10-17 16:45:21,306]\u001b[0m Trial 18 finished with value: -2992.8815126144077 and parameters: {'model_type': 'Linear', 'Linear_alpha': 0.001386893247923329, 'Linear_l1_ratio': 0.9975104556368368}. Best is trial 18 with value: -2992.8815126144077.\u001b[0m\n",
      "\u001b[32m[I 2022-10-17 16:45:21,339]\u001b[0m Trial 19 finished with value: -3000.2786848811566 and parameters: {'model_type': 'Linear', 'Linear_alpha': 0.00147142561847191, 'Linear_l1_ratio': 0.9235828626218411}. Best is trial 18 with value: -2992.8815126144077.\u001b[0m\n",
      "\u001b[32m[I 2022-10-17 16:45:21,373]\u001b[0m Trial 20 finished with value: -2999.108041719503 and parameters: {'model_type': 'Linear', 'Linear_alpha': 0.0011121227612905212, 'Linear_l1_ratio': 0.9454858414552605}. Best is trial 18 with value: -2992.8815126144077.\u001b[0m\n",
      "\u001b[32m[I 2022-10-17 16:45:21,410]\u001b[0m Trial 21 finished with value: -2992.6891988612924 and parameters: {'model_type': 'Linear', 'Linear_alpha': 0.0011706196731161003, 'Linear_l1_ratio': 0.9981174634515823}. Best is trial 21 with value: -2992.6891988612924.\u001b[0m\n",
      "\u001b[32m[I 2022-10-17 16:45:21,444]\u001b[0m Trial 22 finished with value: -2999.0388235991823 and parameters: {'model_type': 'Linear', 'Linear_alpha': 0.008228588651080743, 'Linear_l1_ratio': 0.9992066432613925}. Best is trial 21 with value: -2992.6891988612924.\u001b[0m\n",
      "\u001b[32m[I 2022-10-17 16:45:21,476]\u001b[0m Trial 23 finished with value: -3008.8874181248316 and parameters: {'model_type': 'Linear', 'Linear_alpha': 0.019859960300575207, 'Linear_l1_ratio': 0.9864789827922393}. Best is trial 21 with value: -2992.6891988612924.\u001b[0m\n",
      "\u001b[32m[I 2022-10-17 16:45:21,508]\u001b[0m Trial 24 finished with value: -3320.7523499316267 and parameters: {'model_type': 'Linear', 'Linear_alpha': 0.011926015843960951, 'Linear_l1_ratio': 0.8158815896314718}. Best is trial 21 with value: -2992.6891988612924.\u001b[0m\n",
      "\u001b[32m[I 2022-10-17 16:45:21,539]\u001b[0m Trial 25 finished with value: -3154.086500661541 and parameters: {'model_type': 'Linear', 'Linear_alpha': 0.009268266833782825, 'Linear_l1_ratio': 0.8621932953198806}. Best is trial 21 with value: -2992.6891988612924.\u001b[0m\n",
      "\u001b[32m[I 2022-10-17 16:45:21,572]\u001b[0m Trial 26 finished with value: -2996.191949192551 and parameters: {'model_type': 'Linear', 'Linear_alpha': 0.0053324581890355416, 'Linear_l1_ratio': 0.9925204629353898}. Best is trial 21 with value: -2992.6891988612924.\u001b[0m\n",
      "\u001b[32m[I 2022-10-17 16:45:21,604]\u001b[0m Trial 27 finished with value: -4584.391757189181 and parameters: {'model_type': 'Linear', 'Linear_alpha': 0.04692276173663802, 'Linear_l1_ratio': 0.6756000239716327}. Best is trial 21 with value: -2992.6891988612924.\u001b[0m\n",
      "\u001b[32m[I 2022-10-17 16:45:21,637]\u001b[0m Trial 28 finished with value: -3029.893295152686 and parameters: {'model_type': 'Linear', 'Linear_alpha': 0.003522705014626456, 'Linear_l1_ratio': 0.8519664611299418}. Best is trial 21 with value: -2992.6891988612924.\u001b[0m\n",
      "\u001b[32m[I 2022-10-17 16:45:21,669]\u001b[0m Trial 29 finished with value: -3956.4291352158625 and parameters: {'model_type': 'Linear', 'Linear_alpha': 0.06337349666428793, 'Linear_l1_ratio': 0.8979129903530803}. Best is trial 21 with value: -2992.6891988612924.\u001b[0m\n",
      "\u001b[32m[I 2022-10-17 16:45:21,702]\u001b[0m Trial 30 finished with value: -3098.7045681012723 and parameters: {'model_type': 'Linear', 'Linear_alpha': 0.003484307603531021, 'Linear_l1_ratio': 0.7179018660241071}. Best is trial 21 with value: -2992.6891988612924.\u001b[0m\n",
      "\u001b[32m[I 2022-10-17 16:45:21,733]\u001b[0m Trial 31 finished with value: -2999.3437284366155 and parameters: {'model_type': 'Linear', 'Linear_alpha': 0.0038638024821069645, 'Linear_l1_ratio': 0.9746738102808501}. Best is trial 21 with value: -2992.6891988612924.\u001b[0m\n",
      "\u001b[32m[I 2022-10-17 16:45:21,768]\u001b[0m Trial 32 finished with value: -2997.064803153325 and parameters: {'model_type': 'Linear', 'Linear_alpha': 0.004977885153201672, 'Linear_l1_ratio': 0.9981440925898775}. Best is trial 21 with value: -2992.6891988612924.\u001b[0m\n",
      "\u001b[32m[I 2022-10-17 16:45:21,800]\u001b[0m Trial 33 finished with value: -3878.905463851769 and parameters: {'model_type': 'Linear', 'Linear_alpha': 0.04617236103039801, 'Linear_l1_ratio': 0.8721877507334266}. Best is trial 21 with value: -2992.6891988612924.\u001b[0m\n",
      "\u001b[32m[I 2022-10-17 16:45:21,837]\u001b[0m Trial 34 finished with value: -2995.42027331941 and parameters: {'model_type': 'Linear', 'Linear_alpha': 0.0010265258953145446, 'Linear_l1_ratio': 0.9863954542176434}. Best is trial 21 with value: -2992.6891988612924.\u001b[0m\n",
      "\u001b[32m[I 2022-10-17 16:45:21,871]\u001b[0m Trial 35 finished with value: -3000.367560529583 and parameters: {'model_type': 'Linear', 'Linear_alpha': 0.0011340687036379543, 'Linear_l1_ratio': 0.9010171702496879}. Best is trial 21 with value: -2992.6891988612924.\u001b[0m\n",
      "\u001b[32m[I 2022-10-17 16:45:21,903]\u001b[0m Trial 36 finished with value: -3024.8896128343163 and parameters: {'model_type': 'Linear', 'Linear_alpha': 0.0025205493774099683, 'Linear_l1_ratio': 0.8089663845713977}. Best is trial 21 with value: -2992.6891988612924.\u001b[0m\n",
      "\u001b[32m[I 2022-10-17 16:45:21,935]\u001b[0m Trial 37 finished with value: -3171.961255609039 and parameters: {'model_type': 'Linear', 'Linear_alpha': 0.016801079986197603, 'Linear_l1_ratio': 0.9199379669894656}. Best is trial 21 with value: -2992.6891988612924.\u001b[0m\n",
      "\u001b[32m[I 2022-10-17 16:45:21,968]\u001b[0m Trial 38 finished with value: -3054.230769468952 and parameters: {'model_type': 'Linear', 'Linear_alpha': 0.0022384129697599914, 'Linear_l1_ratio': 0.684536942348852}. Best is trial 21 with value: -2992.6891988612924.\u001b[0m\n",
      "\u001b[32m[I 2022-10-17 16:45:22,000]\u001b[0m Trial 39 finished with value: -5957.68833748996 and parameters: {'model_type': 'Linear', 'Linear_alpha': 1.570207610238257, 'Linear_l1_ratio': 0.4069829329151996}. Best is trial 21 with value: -2992.6891988612924.\u001b[0m\n",
      "\u001b[32m[I 2022-10-17 16:45:22,032]\u001b[0m Trial 40 finished with value: -5020.856235135822 and parameters: {'model_type': 'Linear', 'Linear_alpha': 0.12201209430284574, 'Linear_l1_ratio': 0.7837220755857759}. Best is trial 21 with value: -2992.6891988612924.\u001b[0m\n",
      "\u001b[32m[I 2022-10-17 16:45:22,065]\u001b[0m Trial 41 finished with value: -2996.0986552970926 and parameters: {'model_type': 'Linear', 'Linear_alpha': 0.005771672242956525, 'Linear_l1_ratio': 0.9916241542158245}. Best is trial 21 with value: -2992.6891988612924.\u001b[0m\n",
      "\u001b[32m[I 2022-10-17 16:45:22,096]\u001b[0m Trial 42 finished with value: -3785.851363149281 and parameters: {'model_type': 'Linear', 'Linear_alpha': 0.006147284288309514, 'Linear_l1_ratio': 0.12380018709628737}. Best is trial 21 with value: -2992.6891988612924.\u001b[0m\n",
      "\u001b[32m[I 2022-10-17 16:45:22,130]\u001b[0m Trial 43 finished with value: -2999.277192788446 and parameters: {'model_type': 'Linear', 'Linear_alpha': 0.001125605703805681, 'Linear_l1_ratio': 0.9409812489049774}. Best is trial 21 with value: -2992.6891988612924.\u001b[0m\n",
      "\u001b[32m[I 2022-10-17 16:45:22,162]\u001b[0m Trial 44 finished with value: -3001.104845705669 and parameters: {'model_type': 'Linear', 'Linear_alpha': 0.0021888882145110746, 'Linear_l1_ratio': 0.932754023966928}. Best is trial 21 with value: -2992.6891988612924.\u001b[0m\n",
      "\u001b[32m[I 2022-10-17 16:45:22,194]\u001b[0m Trial 45 finished with value: -3075.2261739997443 and parameters: {'model_type': 'Linear', 'Linear_alpha': 0.005620863059573857, 'Linear_l1_ratio': 0.8520372698854771}. Best is trial 21 with value: -2992.6891988612924.\u001b[0m\n",
      "\u001b[32m[I 2022-10-17 16:45:22,227]\u001b[0m Trial 46 finished with value: -3085.796159949902 and parameters: {'model_type': 'Linear', 'Linear_alpha': 0.0020394868603006563, 'Linear_l1_ratio': 0.5536590460026847}. Best is trial 21 with value: -2992.6891988612924.\u001b[0m\n",
      "\u001b[32m[I 2022-10-17 16:45:22,259]\u001b[0m Trial 47 finished with value: -3004.4868472693897 and parameters: {'model_type': 'Linear', 'Linear_alpha': 0.028755196797954297, 'Linear_l1_ratio': 0.994011494759003}. Best is trial 21 with value: -2992.6891988612924.\u001b[0m\n",
      "\u001b[32m[I 2022-10-17 16:45:22,292]\u001b[0m Trial 48 finished with value: -3068.7354048046723 and parameters: {'model_type': 'Linear', 'Linear_alpha': 0.0120854153739589, 'Linear_l1_ratio': 0.9365149408564143}. Best is trial 21 with value: -2992.6891988612924.\u001b[0m\n",
      "\u001b[32m[I 2022-10-17 16:45:22,322]\u001b[0m Trial 49 finished with value: -5724.402205898922 and parameters: {'model_type': 'Linear', 'Linear_alpha': 0.23458744642291504, 'Linear_l1_ratio': 0.44574658886127433}. Best is trial 21 with value: -2992.6891988612924.\u001b[0m\n",
      "\u001b[32m[I 2022-10-17 16:45:22,353]\u001b[0m Trial 50 finished with value: -5906.684874233691 and parameters: {'model_type': 'Linear', 'Linear_alpha': 0.5793151620236149, 'Linear_l1_ratio': 0.1892216725353134}. Best is trial 21 with value: -2992.6891988612924.\u001b[0m\n",
      "\u001b[32m[I 2022-10-17 16:45:22,386]\u001b[0m Trial 51 finished with value: -2996.6152326151314 and parameters: {'model_type': 'Linear', 'Linear_alpha': 0.004884264981011508, 'Linear_l1_ratio': 0.9895474572596579}. Best is trial 21 with value: -2992.6891988612924.\u001b[0m\n",
      "\u001b[32m[I 2022-10-17 16:45:22,420]\u001b[0m Trial 52 finished with value: -2998.6621001680787 and parameters: {'model_type': 'Linear', 'Linear_alpha': 0.0010104009396217628, 'Linear_l1_ratio': 0.9593245439788048}. Best is trial 21 with value: -2992.6891988612924.\u001b[0m\n",
      "\u001b[32m[I 2022-10-17 16:45:22,452]\u001b[0m Trial 53 finished with value: -3002.641607800216 and parameters: {'model_type': 'Linear', 'Linear_alpha': 0.001819672961511201, 'Linear_l1_ratio': 0.8900753824045269}. Best is trial 21 with value: -2992.6891988612924.\u001b[0m\n",
      "\u001b[32m[I 2022-10-17 16:45:22,548]\u001b[0m Trial 54 finished with value: -5313.1590542657395 and parameters: {'model_type': 'SVM', 'SVM_kernel': 'sigmoid', 'SVM_C': 0.18856317197162134}. Best is trial 21 with value: -2992.6891988612924.\u001b[0m\n",
      "\u001b[32m[I 2022-10-17 16:45:22,581]\u001b[0m Trial 55 finished with value: -3000.6181083300603 and parameters: {'model_type': 'Linear', 'Linear_alpha': 0.0031875035090420055, 'Linear_l1_ratio': 0.9593292393560059}. Best is trial 21 with value: -2992.6891988612924.\u001b[0m\n",
      "\u001b[32m[I 2022-10-17 16:45:22,615]\u001b[0m Trial 56 finished with value: -2995.5270645652117 and parameters: {'model_type': 'Linear', 'Linear_alpha': 0.006683570547634273, 'Linear_l1_ratio': 0.9944834786052149}. Best is trial 21 with value: -2992.6891988612924.\u001b[0m\n",
      "\u001b[32m[I 2022-10-17 16:45:22,647]\u001b[0m Trial 57 finished with value: -3006.810726979852 and parameters: {'model_type': 'Linear', 'Linear_alpha': 0.0017903672149978973, 'Linear_l1_ratio': 0.842171267567513}. Best is trial 21 with value: -2992.6891988612924.\u001b[0m\n",
      "\u001b[32m[I 2022-10-17 16:45:22,707]\u001b[0m Trial 58 finished with value: -6100.443445663865 and parameters: {'model_type': 'SVM', 'SVM_kernel': 'linear', 'SVM_C': 0.017485322333620098}. Best is trial 21 with value: -2992.6891988612924.\u001b[0m\n",
      "\u001b[32m[I 2022-10-17 16:45:22,738]\u001b[0m Trial 59 finished with value: -3076.003708629772 and parameters: {'model_type': 'Linear', 'Linear_alpha': 0.008773902887997587, 'Linear_l1_ratio': 0.9059622308601316}. Best is trial 21 with value: -2992.6891988612924.\u001b[0m\n",
      "\u001b[32m[I 2022-10-17 16:45:22,768]\u001b[0m Trial 60 finished with value: -3745.2688521504483 and parameters: {'model_type': 'Linear', 'Linear_alpha': 0.021725686979588363, 'Linear_l1_ratio': 0.7716157328403279}. Best is trial 21 with value: -2992.6891988612924.\u001b[0m\n",
      "\u001b[32m[I 2022-10-17 16:45:22,800]\u001b[0m Trial 61 finished with value: -2995.69850374991 and parameters: {'model_type': 'Linear', 'Linear_alpha': 0.007018469703627052, 'Linear_l1_ratio': 0.9952325127342058}. Best is trial 21 with value: -2992.6891988612924.\u001b[0m\n",
      "\u001b[32m[I 2022-10-17 16:45:22,834]\u001b[0m Trial 62 finished with value: -3019.457730574026 and parameters: {'model_type': 'Linear', 'Linear_alpha': 0.008233139660607165, 'Linear_l1_ratio': 0.9494397118268816}. Best is trial 21 with value: -2992.6891988612924.\u001b[0m\n",
      "\u001b[32m[I 2022-10-17 16:45:22,871]\u001b[0m Trial 63 finished with value: -2992.8370953726467 and parameters: {'model_type': 'Linear', 'Linear_alpha': 0.0015662504812194735, 'Linear_l1_ratio': 0.9977413711102798}. Best is trial 21 with value: -2992.6891988612924.\u001b[0m\n",
      "\u001b[32m[I 2022-10-17 16:45:22,909]\u001b[0m Trial 64 finished with value: -2992.412498615849 and parameters: {'model_type': 'Linear', 'Linear_alpha': 0.0015252610348118344, 'Linear_l1_ratio': 0.9993860686879128}. Best is trial 64 with value: -2992.412498615849.\u001b[0m\n",
      "\u001b[32m[I 2022-10-17 16:45:22,942]\u001b[0m Trial 65 finished with value: -3001.804649731356 and parameters: {'model_type': 'Linear', 'Linear_alpha': 0.0016521705602988211, 'Linear_l1_ratio': 0.894334397077889}. Best is trial 64 with value: -2992.412498615849.\u001b[0m\n",
      "\u001b[32m[I 2022-10-17 16:45:22,975]\u001b[0m Trial 66 finished with value: -2999.0272922146605 and parameters: {'model_type': 'Linear', 'Linear_alpha': 0.001057208229543344, 'Linear_l1_ratio': 0.9498721028578812}. Best is trial 64 with value: -2992.412498615849.\u001b[0m\n",
      "\u001b[32m[I 2022-10-17 16:45:23,073]\u001b[0m Trial 67 finished with value: -5197.092949403959 and parameters: {'model_type': 'SVM', 'SVM_kernel': 'sigmoid', 'SVM_C': 0.22625158266332432}. Best is trial 64 with value: -2992.412498615849.\u001b[0m\n",
      "\u001b[32m[I 2022-10-17 16:45:23,107]\u001b[0m Trial 68 finished with value: -3030.3057595627424 and parameters: {'model_type': 'Linear', 'Linear_alpha': 0.002914493174763444, 'Linear_l1_ratio': 0.8193174425828013}. Best is trial 64 with value: -2992.412498615849.\u001b[0m\n",
      "\u001b[32m[I 2022-10-17 16:45:23,140]\u001b[0m Trial 69 finished with value: -5982.413413836098 and parameters: {'model_type': 'Linear', 'Linear_alpha': 12.27982068863151, 'Linear_l1_ratio': 0.3288988801554603}. Best is trial 64 with value: -2992.412498615849.\u001b[0m\n",
      "\u001b[32m[I 2022-10-17 16:45:23,175]\u001b[0m Trial 70 finished with value: -3000.5997814975835 and parameters: {'model_type': 'Linear', 'Linear_alpha': 0.0015349299270674217, 'Linear_l1_ratio': 0.9188106273832946}. Best is trial 64 with value: -2992.412498615849.\u001b[0m\n",
      "\u001b[32m[I 2022-10-17 16:45:23,209]\u001b[0m Trial 71 finished with value: -2999.469515913805 and parameters: {'model_type': 'Linear', 'Linear_alpha': 0.0031681799571031083, 'Linear_l1_ratio': 0.9697463046660573}. Best is trial 64 with value: -2992.412498615849.\u001b[0m\n",
      "\u001b[32m[I 2022-10-17 16:45:23,243]\u001b[0m Trial 72 finished with value: -2994.2678022021146 and parameters: {'model_type': 'Linear', 'Linear_alpha': 0.013845523886541677, 'Linear_l1_ratio': 0.996261150769796}. Best is trial 64 with value: -2992.412498615849.\u001b[0m\n",
      "\u001b[32m[I 2022-10-17 16:45:23,278]\u001b[0m Trial 73 finished with value: -2995.40559494411 and parameters: {'model_type': 'Linear', 'Linear_alpha': 0.014493989513797031, 'Linear_l1_ratio': 0.999204479412399}. Best is trial 64 with value: -2992.412498615849.\u001b[0m\n",
      "\u001b[32m[I 2022-10-17 16:45:23,311]\u001b[0m Trial 74 finished with value: -4581.4019148078105 and parameters: {'model_type': 'Linear', 'Linear_alpha': 0.015732388442696425, 'Linear_l1_ratio': 0.008556480812734413}. Best is trial 64 with value: -2992.412498615849.\u001b[0m\n",
      "\u001b[32m[I 2022-10-17 16:45:23,345]\u001b[0m Trial 75 finished with value: -3002.87813714641 and parameters: {'model_type': 'Linear', 'Linear_alpha': 0.0015824603678491046, 'Linear_l1_ratio': 0.8696079400012514}. Best is trial 64 with value: -2992.412498615849.\u001b[0m\n",
      "\u001b[32m[I 2022-10-17 16:45:23,379]\u001b[0m Trial 76 finished with value: -3182.1632137764636 and parameters: {'model_type': 'Linear', 'Linear_alpha': 0.03335877540326822, 'Linear_l1_ratio': 0.9600715123404039}. Best is trial 64 with value: -2992.412498615849.\u001b[0m\n",
      "\u001b[32m[I 2022-10-17 16:45:23,413]\u001b[0m Trial 77 finished with value: -3012.231419823556 and parameters: {'model_type': 'Linear', 'Linear_alpha': 0.004037613457400036, 'Linear_l1_ratio': 0.9131279248300365}. Best is trial 64 with value: -2992.412498615849.\u001b[0m\n",
      "\u001b[32m[I 2022-10-17 16:45:23,513]\u001b[0m Trial 78 finished with value: -128294.78889138465 and parameters: {'model_type': 'SVM', 'SVM_kernel': 'poly', 'SVM_C': 11.048326039544078, 'SVM_degree': 10}. Best is trial 64 with value: -2992.412498615849.\u001b[0m\n",
      "\u001b[32m[I 2022-10-17 16:45:23,547]\u001b[0m Trial 79 finished with value: -2999.5108678717143 and parameters: {'model_type': 'Linear', 'Linear_alpha': 0.002475897956406552, 'Linear_l1_ratio': 0.9658755724768661}. Best is trial 64 with value: -2992.412498615849.\u001b[0m\n",
      "\u001b[32m[I 2022-10-17 16:45:23,586]\u001b[0m Trial 80 finished with value: -2992.6523941972277 and parameters: {'model_type': 'Linear', 'Linear_alpha': 0.0010026877351897497, 'Linear_l1_ratio': 0.9981563234420076}. Best is trial 64 with value: -2992.412498615849.\u001b[0m\n",
      "\u001b[32m[I 2022-10-17 16:45:23,623]\u001b[0m Trial 81 finished with value: -2993.0500013726682 and parameters: {'model_type': 'Linear', 'Linear_alpha': 0.0012599650418779564, 'Linear_l1_ratio': 0.9964488905443871}. Best is trial 64 with value: -2992.412498615849.\u001b[0m\n",
      "\u001b[32m[I 2022-10-17 16:45:23,656]\u001b[0m Trial 82 finished with value: -3000.1360330787156 and parameters: {'model_type': 'Linear', 'Linear_alpha': 0.0013704477308822184, 'Linear_l1_ratio': 0.9264131325691892}. Best is trial 64 with value: -2992.412498615849.\u001b[0m\n",
      "\u001b[32m[I 2022-10-17 16:45:23,691]\u001b[0m Trial 83 finished with value: -2998.432728565091 and parameters: {'model_type': 'Linear', 'Linear_alpha': 0.0010068204496716346, 'Linear_l1_ratio': 0.9623728576342989}. Best is trial 64 with value: -2992.412498615849.\u001b[0m\n",
      "\u001b[32m[I 2022-10-17 16:45:23,724]\u001b[0m Trial 84 finished with value: -4528.822395472502 and parameters: {'model_type': 'Linear', 'Linear_alpha': 0.1119507400499157, 'Linear_l1_ratio': 0.8812001126066336}. Best is trial 64 with value: -2992.412498615849.\u001b[0m\n",
      "\u001b[32m[I 2022-10-17 16:45:23,760]\u001b[0m Trial 85 finished with value: -2992.4785080001448 and parameters: {'model_type': 'Linear', 'Linear_alpha': 0.0023070476034642608, 'Linear_l1_ratio': 0.9989738131039938}. Best is trial 64 with value: -2992.412498615849.\u001b[0m\n",
      "\u001b[32m[I 2022-10-17 16:45:23,798]\u001b[0m Trial 86 finished with value: -2992.258831219395 and parameters: {'model_type': 'Linear', 'Linear_alpha': 0.0021086436483865557, 'Linear_l1_ratio': 0.99981440637672}. Best is trial 86 with value: -2992.258831219395.\u001b[0m\n",
      "\u001b[32m[I 2022-10-17 16:45:23,833]\u001b[0m Trial 87 finished with value: -3002.027256245242 and parameters: {'model_type': 'Linear', 'Linear_alpha': 0.0025670030181197197, 'Linear_l1_ratio': 0.9290160636416742}. Best is trial 86 with value: -2992.258831219395.\u001b[0m\n",
      "\u001b[32m[I 2022-10-17 16:45:23,868]\u001b[0m Trial 88 finished with value: -3001.2417582000703 and parameters: {'model_type': 'Linear', 'Linear_alpha': 0.0042167921312204655, 'Linear_l1_ratio': 0.9630322578536696}. Best is trial 86 with value: -2992.258831219395.\u001b[0m\n",
      "\u001b[32m[I 2022-10-17 16:45:23,902]\u001b[0m Trial 89 finished with value: -3004.736934132784 and parameters: {'model_type': 'Linear', 'Linear_alpha': 0.001480836156312717, 'Linear_l1_ratio': 0.8330628174943495}. Best is trial 86 with value: -2992.258831219395.\u001b[0m\n",
      "\u001b[32m[I 2022-10-17 16:45:23,937]\u001b[0m Trial 90 finished with value: -3001.181079329572 and parameters: {'model_type': 'Linear', 'Linear_alpha': 0.0021781315045881927, 'Linear_l1_ratio': 0.9308125254639619}. Best is trial 86 with value: -2992.258831219395.\u001b[0m\n",
      "\u001b[32m[I 2022-10-17 16:45:23,971]\u001b[0m Trial 91 finished with value: -5982.413413836098 and parameters: {'model_type': 'Linear', 'Linear_alpha': 99.08494922244604, 'Linear_l1_ratio': 0.9975907747844773}. Best is trial 86 with value: -2992.258831219395.\u001b[0m\n",
      "\u001b[32m[I 2022-10-17 16:45:24,006]\u001b[0m Trial 92 finished with value: -2998.2904441213495 and parameters: {'model_type': 'Linear', 'Linear_alpha': 0.0013960204513615278, 'Linear_l1_ratio': 0.9734067297147719}. Best is trial 86 with value: -2992.258831219395.\u001b[0m\n",
      "\u001b[32m[I 2022-10-17 16:45:24,040]\u001b[0m Trial 93 finished with value: -3009.703911438593 and parameters: {'model_type': 'Linear', 'Linear_alpha': 0.0031099916754548504, 'Linear_l1_ratio': 0.8966412544631784}. Best is trial 86 with value: -2992.258831219395.\u001b[0m\n",
      "\u001b[32m[I 2022-10-17 16:45:24,075]\u001b[0m Trial 94 finished with value: -3000.0514168344953 and parameters: {'model_type': 'Linear', 'Linear_alpha': 0.0020257366235567936, 'Linear_l1_ratio': 0.9463718969805607}. Best is trial 86 with value: -2992.258831219395.\u001b[0m\n",
      "\u001b[32m[I 2022-10-17 16:45:24,108]\u001b[0m Trial 95 finished with value: -3011.351924606578 and parameters: {'model_type': 'Linear', 'Linear_alpha': 0.01132153551331647, 'Linear_l1_ratio': 0.9714795322114215}. Best is trial 86 with value: -2992.258831219395.\u001b[0m\n",
      "\u001b[32m[I 2022-10-17 16:45:24,145]\u001b[0m Trial 96 finished with value: -2994.5959897335147 and parameters: {'model_type': 'Linear', 'Linear_alpha': 0.0013720370758074794, 'Linear_l1_ratio': 0.9925185320421076}. Best is trial 86 with value: -2992.258831219395.\u001b[0m\n",
      "\u001b[32m[I 2022-10-17 16:45:24,180]\u001b[0m Trial 97 finished with value: -3000.273486133213 and parameters: {'model_type': 'Linear', 'Linear_alpha': 0.0013199691536706134, 'Linear_l1_ratio': 0.9168410102622474}. Best is trial 86 with value: -2992.258831219395.\u001b[0m\n",
      "\u001b[32m[I 2022-10-17 16:45:24,251]\u001b[0m Trial 98 finished with value: -4709.948242507389 and parameters: {'model_type': 'SVM', 'SVM_kernel': 'poly', 'SVM_C': 0.6639538887177264, 'SVM_degree': 3}. Best is trial 86 with value: -2992.258831219395.\u001b[0m\n",
      "\u001b[32m[I 2022-10-17 16:45:24,284]\u001b[0m Trial 99 finished with value: -3032.5907748896016 and parameters: {'model_type': 'Linear', 'Linear_alpha': 0.004165855606711779, 'Linear_l1_ratio': 0.8700612167232917}. Best is trial 86 with value: -2992.258831219395.\u001b[0m\n"
     ]
    },
    {
     "name": "stdout",
     "output_type": "stream",
     "text": [
      "MSE: 2992.258831219395\n",
      "Best parameters: {'model_type': 'Linear', 'Linear_alpha': 0.0021086436483865557, 'Linear_l1_ratio': 0.99981440637672}\n"
     ]
    }
   ],
   "source": [
    "# Create the study to maximize the negative mean squared error\n",
    "study = optuna.create_study(direction=\"maximize\")\n",
    "# Optimize the study to get the best hyperparameters\n",
    "study.optimize(objective, n_trials=100)\n",
    "# Show the study results\n",
    "print(\"MSE: \"+str(-study.best_trial.values[0]))\n",
    "print(\"Best parameters: \"+str(study.best_trial.params))"
   ]
  },
  {
   "cell_type": "code",
   "execution_count": null,
   "id": "0a55ce80-20f3-4902-81c9-3524c43b2957",
   "metadata": {},
   "outputs": [],
   "source": [
    "def objective_demonstration(trial):\n",
    "    \"\"\"This is the set of instructions for Optuna to follow. \n",
    "    Everything that you would normally do to train an algorithm goes in this function.\"\"\"\n",
    "    # Define the dataset, X and y\n",
    "    # Pick a model type\n",
    "    # Get the hyperparameters based on the model type\n",
    "        # Get the hyperparameters from a given range\n",
    "    # Get the score with cross validation\n",
    "    # Return the score"
   ]
  },
  {
   "cell_type": "code",
   "execution_count": null,
   "id": "cbf03024-233b-4764-8cb7-c070b762e9d1",
   "metadata": {},
   "outputs": [],
   "source": [
    "# Create the study\n",
    "# Optimize the study\n",
    "# Show the study results"
   ]
  }
 ],
 "metadata": {
  "kernelspec": {
   "display_name": "Python 3 (ipykernel)",
   "language": "python",
   "name": "python3"
  },
  "language_info": {
   "codemirror_mode": {
    "name": "ipython",
    "version": 3
   },
   "file_extension": ".py",
   "mimetype": "text/x-python",
   "name": "python",
   "nbconvert_exporter": "python",
   "pygments_lexer": "ipython3",
   "version": "3.9.7"
  }
 },
 "nbformat": 4,
 "nbformat_minor": 5
}
